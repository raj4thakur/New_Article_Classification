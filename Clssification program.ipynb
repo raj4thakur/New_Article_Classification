{
 "cells": [
  {
   "cell_type": "code",
   "execution_count": 1,
   "metadata": {},
   "outputs": [],
   "source": [
    "import json\n",
    "from tqdm import tqdm"
   ]
  },
  {
   "cell_type": "code",
   "execution_count": 2,
   "metadata": {},
   "outputs": [
    {
     "name": "stdout",
     "output_type": "stream",
     "text": [
      "209527\n",
      "{'link': 'https://www.huffpost.com/entry/covid-boosters-uptake-us_n_632d719ee4b087fae6feaac9', 'headline': 'Over 4 Million Americans Roll Up Sleeves For Omicron-Targeted COVID Boosters', 'category': 'U.S. NEWS', 'short_description': 'Health experts said it is too early to predict whether demand would match up with the 171 million doses of the new boosters the U.S. ordered for the fall.', 'authors': 'Carla K. Johnson, AP', 'date': '2022-09-23'}\n"
     ]
    }
   ],
   "source": [
    "# Loading the json file \n",
    "file = 'News_Category_Dataset_v3.json'\n",
    "\n",
    "data = []\n",
    "with open(file, 'r') as f:\n",
    "    for line in f:\n",
    "        data.append(json.loads(line.strip()))\n",
    "\n",
    "print(len(data))       # Number of articles\n",
    "print(data[0])         # First article"
   ]
  },
  {
   "cell_type": "code",
   "execution_count": 3,
   "metadata": {},
   "outputs": [
    {
     "name": "stdout",
     "output_type": "stream",
     "text": [
      "Done\n"
     ]
    }
   ],
   "source": [
    "# Lists to hold the articles and categories separately\n",
    "articles = []\n",
    "categories = []\n",
    "description=[]\n",
    "# Iterate over each item in the data and separate 'headline' and 'category'\n",
    "for item in data:\n",
    "    articles.append(item['headline'])    # You can use other fields as well, such as 'short_description'\n",
    "    categories.append(item['category'])\n",
    "    description.append(item['short_description'])\n",
    "print(\"Done\")"
   ]
  },
  {
   "cell_type": "code",
   "execution_count": 4,
   "metadata": {},
   "outputs": [
    {
     "name": "stdout",
     "output_type": "stream",
     "text": [
      "'The Phantom Of The Opera' To Close On Broadway Next Year\n",
      "“The Phantom of the Opera” — Broadway’s longest-running show — is scheduled to close in February 2023, a victim of post-pandemic softening in theater attendance in New York.\n",
      "ENTERTAINMENT\n"
     ]
    }
   ],
   "source": [
    "print(articles[43])\n",
    "print(description[43])\n",
    "print(categories[43])"
   ]
  },
  {
   "cell_type": "code",
   "execution_count": 5,
   "metadata": {},
   "outputs": [
    {
     "name": "stderr",
     "output_type": "stream",
     "text": [
      "[nltk_data] Downloading package stopwords to\n",
      "[nltk_data]     C:\\Users\\VICTUS\\AppData\\Roaming\\nltk_data...\n",
      "[nltk_data]   Package stopwords is already up-to-date!\n",
      "[nltk_data] Downloading package wordnet to\n",
      "[nltk_data]     C:\\Users\\VICTUS\\AppData\\Roaming\\nltk_data...\n",
      "[nltk_data]   Package wordnet is already up-to-date!\n",
      "[nltk_data] Downloading package omw-1.4 to\n",
      "[nltk_data]     C:\\Users\\VICTUS\\AppData\\Roaming\\nltk_data...\n",
      "[nltk_data]   Package omw-1.4 is already up-to-date!\n"
     ]
    }
   ],
   "source": [
    "import re\n",
    "import nltk\n",
    "from nltk.corpus import stopwords\n",
    "from nltk.stem import WordNetLemmatizer, PorterStemmer\n",
    "\n",
    "# Download necessary NLTK data\n",
    "nltk.download('stopwords')\n",
    "nltk.download('wordnet')\n",
    "nltk.download('omw-1.4')\n",
    "\n",
    "# Initialize stop words, lemmatizer, and stemmer\n",
    "stop_words = set(stopwords.words('english'))\n",
    "lemmatizer = WordNetLemmatizer()\n",
    "stemmer = PorterStemmer()\n",
    "\n",
    "def clean_text(text):\n",
    "    # Lowercase the text\n",
    "    text = text.lower()\n",
    "    # Remove special characters and numbers\n",
    "    text = re.sub(r'[^a-z\\s]', '', text)\n",
    "    # Tokenize, remove stop words, and apply lemmatization and stemming\n",
    "    cleaned_words = []\n",
    "    for word in text.split():\n",
    "        if word not in stop_words:\n",
    "            # Lemmatize and then stem each word\n",
    "            lemmatized_word = lemmatizer.lemmatize(word)\n",
    "            stemmed_word = stemmer.stem(lemmatized_word)\n",
    "            cleaned_words.append(stemmed_word)\n",
    "    return ' '.join(cleaned_words)\n",
    "\n",
    "# Apply the updated cleaning function to articles and descriptions\n",
    "cleaned_articles = [clean_text(article) for article in articles]\n",
    "cleaned_description = [clean_text(desc) for desc in description]"
   ]
  },
  {
   "cell_type": "code",
   "execution_count": 6,
   "metadata": {},
   "outputs": [
    {
     "data": {
      "text/plain": [
       "'world cup captain want wear rainbow armband qatar'"
      ]
     },
     "execution_count": 6,
     "metadata": {},
     "output_type": "execute_result"
    }
   ],
   "source": [
    "cleaned_articles[10]"
   ]
  },
  {
   "cell_type": "code",
   "execution_count": 7,
   "metadata": {},
   "outputs": [
    {
     "name": "stdout",
     "output_type": "stream",
     "text": [
      "64851\n"
     ]
    }
   ],
   "source": [
    "# calculate the unique word count in the cleaned articles list\n",
    "\n",
    "unique_words = set()\n",
    "for article in cleaned_description:\n",
    "    unique_words.update(article.split())\n",
    "print(len(unique_words))"
   ]
  },
  {
   "cell_type": "code",
   "execution_count": 8,
   "metadata": {},
   "outputs": [],
   "source": [
    "from tensorflow.keras.preprocessing.text import Tokenizer\n",
    "\n",
    "# Define tokenizer and fit on the cleaned articles\n",
    "vocab_size = 100000  # Set a limit on the number of words in the vocabulary\n",
    "tokenizer = Tokenizer(num_words=vocab_size, oov_token=\"<OOV>\")\n",
    "\n",
    "# Fit the tokenizer on both cleaned articles and descriptions\n",
    "tokenizer.fit_on_texts(cleaned_articles + cleaned_description)\n",
    "\n",
    "# Convert articles to sequences of integers\n",
    "article_sequences = tokenizer.texts_to_sequences(cleaned_articles)\n",
    "description_sequences = tokenizer.texts_to_sequences(cleaned_description)"
   ]
  },
  {
   "cell_type": "code",
   "execution_count": 9,
   "metadata": {},
   "outputs": [
    {
     "name": "stdout",
     "output_type": "stream",
     "text": [
      "36\n"
     ]
    }
   ],
   "source": [
    "#get the max length of the article in article_sequences\n",
    "max_article_length = max(len(seq) for seq in article_sequences)\n",
    "print(max_article_length)"
   ]
  },
  {
   "cell_type": "code",
   "execution_count": 10,
   "metadata": {},
   "outputs": [],
   "source": [
    "from tensorflow.keras.preprocessing.sequence import pad_sequences\n",
    "# Pad sequences to a fixed length for consistency\n",
    "max_length = 36\n",
    "padded_article_sequences = pad_sequences(article_sequences, maxlen=max_length, padding='post', truncating='post')"
   ]
  },
  {
   "cell_type": "code",
   "execution_count": 11,
   "metadata": {},
   "outputs": [
    {
     "data": {
      "text/plain": [
       "209527"
      ]
     },
     "execution_count": 11,
     "metadata": {},
     "output_type": "execute_result"
    }
   ],
   "source": [
    "# analysing the catogories\n",
    "len(categories)"
   ]
  },
  {
   "cell_type": "code",
   "execution_count": 12,
   "metadata": {},
   "outputs": [],
   "source": [
    "from sklearn.preprocessing import LabelEncoder\n",
    "\n",
    "# Initialize label encoder\n",
    "label_encoder = LabelEncoder()\n",
    "labels = label_encoder.fit_transform(categories)  # Assuming categories is a list of the corresponding categories for each article"
   ]
  },
  {
   "cell_type": "code",
   "execution_count": 13,
   "metadata": {},
   "outputs": [
    {
     "data": {
      "text/plain": [
       "array([[0., 0., 0., ..., 0., 0., 0.],\n",
       "       [0., 0., 0., ..., 0., 0., 0.],\n",
       "       [0., 0., 0., ..., 0., 0., 0.],\n",
       "       ...,\n",
       "       [0., 0., 0., ..., 0., 0., 0.],\n",
       "       [0., 0., 0., ..., 0., 0., 0.],\n",
       "       [0., 0., 0., ..., 0., 0., 0.]])"
      ]
     },
     "execution_count": 13,
     "metadata": {},
     "output_type": "execute_result"
    }
   ],
   "source": [
    "from tensorflow.keras.utils import to_categorical\n",
    "labels_one_hot = to_categorical(labels)\n",
    "labels_one_hot"
   ]
  },
  {
   "cell_type": "code",
   "execution_count": 14,
   "metadata": {},
   "outputs": [
    {
     "name": "stdout",
     "output_type": "stream",
     "text": [
      "X_train shape: (167621, 36), y_train shape: (167621, 42)\n",
      "X_test shape: (41906, 36), y_test shape: (41906, 42)\n"
     ]
    }
   ],
   "source": [
    "from sklearn.model_selection import train_test_split\n",
    "\n",
    "# Split the padded sequences and one-hot encoded labels into training and testing sets\n",
    "X_train, X_test, y_train, y_test = train_test_split(\n",
    "    padded_article_sequences,  # Your padded sequences\n",
    "    labels_one_hot,           # Your one-hot encoded labels\n",
    "    test_size=0.2,            # 20% of the data for testing\n",
    "    random_state=42            # Seed for reproducibility\n",
    ")\n",
    "\n",
    "# Optional: Print the shapes of the resulting datasets\n",
    "print(f'X_train shape: {X_train.shape}, y_train shape: {y_train.shape}')\n",
    "print(f'X_test shape: {X_test.shape}, y_test shape: {y_test.shape}')\n"
   ]
  },
  {
   "cell_type": "code",
   "execution_count": 15,
   "metadata": {},
   "outputs": [
    {
     "name": "stderr",
     "output_type": "stream",
     "text": [
      "c:\\Users\\VICTUS\\AppData\\Local\\Programs\\Python\\Python310\\lib\\site-packages\\keras\\src\\layers\\core\\embedding.py:90: UserWarning: Argument `input_length` is deprecated. Just remove it.\n",
      "  warnings.warn(\n"
     ]
    },
    {
     "data": {
      "text/html": [
       "<pre style=\"white-space:pre;overflow-x:auto;line-height:normal;font-family:Menlo,'DejaVu Sans Mono',consolas,'Courier New',monospace\"><span style=\"font-weight: bold\">Model: \"sequential\"</span>\n",
       "</pre>\n"
      ],
      "text/plain": [
       "\u001b[1mModel: \"sequential\"\u001b[0m\n"
      ]
     },
     "metadata": {},
     "output_type": "display_data"
    },
    {
     "data": {
      "text/html": [
       "<pre style=\"white-space:pre;overflow-x:auto;line-height:normal;font-family:Menlo,'DejaVu Sans Mono',consolas,'Courier New',monospace\">┏━━━━━━━━━━━━━━━━━━━━━━━━━━━━━━━━━┳━━━━━━━━━━━━━━━━━━━━━━━━┳━━━━━━━━━━━━━━━┓\n",
       "┃<span style=\"font-weight: bold\"> Layer (type)                    </span>┃<span style=\"font-weight: bold\"> Output Shape           </span>┃<span style=\"font-weight: bold\">       Param # </span>┃\n",
       "┡━━━━━━━━━━━━━━━━━━━━━━━━━━━━━━━━━╇━━━━━━━━━━━━━━━━━━━━━━━━╇━━━━━━━━━━━━━━━┩\n",
       "│ embedding (<span style=\"color: #0087ff; text-decoration-color: #0087ff\">Embedding</span>)           │ (<span style=\"color: #00d7ff; text-decoration-color: #00d7ff\">None</span>, <span style=\"color: #00af00; text-decoration-color: #00af00\">36</span>, <span style=\"color: #00af00; text-decoration-color: #00af00\">128</span>)        │    <span style=\"color: #00af00; text-decoration-color: #00af00\">12,800,000</span> │\n",
       "├─────────────────────────────────┼────────────────────────┼───────────────┤\n",
       "│ global_average_pooling1d        │ (<span style=\"color: #00d7ff; text-decoration-color: #00d7ff\">None</span>, <span style=\"color: #00af00; text-decoration-color: #00af00\">128</span>)            │             <span style=\"color: #00af00; text-decoration-color: #00af00\">0</span> │\n",
       "│ (<span style=\"color: #0087ff; text-decoration-color: #0087ff\">GlobalAveragePooling1D</span>)        │                        │               │\n",
       "├─────────────────────────────────┼────────────────────────┼───────────────┤\n",
       "│ dense (<span style=\"color: #0087ff; text-decoration-color: #0087ff\">Dense</span>)                   │ (<span style=\"color: #00d7ff; text-decoration-color: #00d7ff\">None</span>, <span style=\"color: #00af00; text-decoration-color: #00af00\">128</span>)            │        <span style=\"color: #00af00; text-decoration-color: #00af00\">16,512</span> │\n",
       "├─────────────────────────────────┼────────────────────────┼───────────────┤\n",
       "│ dropout (<span style=\"color: #0087ff; text-decoration-color: #0087ff\">Dropout</span>)               │ (<span style=\"color: #00d7ff; text-decoration-color: #00d7ff\">None</span>, <span style=\"color: #00af00; text-decoration-color: #00af00\">128</span>)            │             <span style=\"color: #00af00; text-decoration-color: #00af00\">0</span> │\n",
       "├─────────────────────────────────┼────────────────────────┼───────────────┤\n",
       "│ dense_1 (<span style=\"color: #0087ff; text-decoration-color: #0087ff\">Dense</span>)                 │ (<span style=\"color: #00d7ff; text-decoration-color: #00d7ff\">None</span>, <span style=\"color: #00af00; text-decoration-color: #00af00\">42</span>)             │         <span style=\"color: #00af00; text-decoration-color: #00af00\">5,418</span> │\n",
       "└─────────────────────────────────┴────────────────────────┴───────────────┘\n",
       "</pre>\n"
      ],
      "text/plain": [
       "┏━━━━━━━━━━━━━━━━━━━━━━━━━━━━━━━━━┳━━━━━━━━━━━━━━━━━━━━━━━━┳━━━━━━━━━━━━━━━┓\n",
       "┃\u001b[1m \u001b[0m\u001b[1mLayer (type)                   \u001b[0m\u001b[1m \u001b[0m┃\u001b[1m \u001b[0m\u001b[1mOutput Shape          \u001b[0m\u001b[1m \u001b[0m┃\u001b[1m \u001b[0m\u001b[1m      Param #\u001b[0m\u001b[1m \u001b[0m┃\n",
       "┡━━━━━━━━━━━━━━━━━━━━━━━━━━━━━━━━━╇━━━━━━━━━━━━━━━━━━━━━━━━╇━━━━━━━━━━━━━━━┩\n",
       "│ embedding (\u001b[38;5;33mEmbedding\u001b[0m)           │ (\u001b[38;5;45mNone\u001b[0m, \u001b[38;5;34m36\u001b[0m, \u001b[38;5;34m128\u001b[0m)        │    \u001b[38;5;34m12,800,000\u001b[0m │\n",
       "├─────────────────────────────────┼────────────────────────┼───────────────┤\n",
       "│ global_average_pooling1d        │ (\u001b[38;5;45mNone\u001b[0m, \u001b[38;5;34m128\u001b[0m)            │             \u001b[38;5;34m0\u001b[0m │\n",
       "│ (\u001b[38;5;33mGlobalAveragePooling1D\u001b[0m)        │                        │               │\n",
       "├─────────────────────────────────┼────────────────────────┼───────────────┤\n",
       "│ dense (\u001b[38;5;33mDense\u001b[0m)                   │ (\u001b[38;5;45mNone\u001b[0m, \u001b[38;5;34m128\u001b[0m)            │        \u001b[38;5;34m16,512\u001b[0m │\n",
       "├─────────────────────────────────┼────────────────────────┼───────────────┤\n",
       "│ dropout (\u001b[38;5;33mDropout\u001b[0m)               │ (\u001b[38;5;45mNone\u001b[0m, \u001b[38;5;34m128\u001b[0m)            │             \u001b[38;5;34m0\u001b[0m │\n",
       "├─────────────────────────────────┼────────────────────────┼───────────────┤\n",
       "│ dense_1 (\u001b[38;5;33mDense\u001b[0m)                 │ (\u001b[38;5;45mNone\u001b[0m, \u001b[38;5;34m42\u001b[0m)             │         \u001b[38;5;34m5,418\u001b[0m │\n",
       "└─────────────────────────────────┴────────────────────────┴───────────────┘\n"
      ]
     },
     "metadata": {},
     "output_type": "display_data"
    },
    {
     "data": {
      "text/html": [
       "<pre style=\"white-space:pre;overflow-x:auto;line-height:normal;font-family:Menlo,'DejaVu Sans Mono',consolas,'Courier New',monospace\"><span style=\"font-weight: bold\"> Total params: </span><span style=\"color: #00af00; text-decoration-color: #00af00\">12,821,930</span> (48.91 MB)\n",
       "</pre>\n"
      ],
      "text/plain": [
       "\u001b[1m Total params: \u001b[0m\u001b[38;5;34m12,821,930\u001b[0m (48.91 MB)\n"
      ]
     },
     "metadata": {},
     "output_type": "display_data"
    },
    {
     "data": {
      "text/html": [
       "<pre style=\"white-space:pre;overflow-x:auto;line-height:normal;font-family:Menlo,'DejaVu Sans Mono',consolas,'Courier New',monospace\"><span style=\"font-weight: bold\"> Trainable params: </span><span style=\"color: #00af00; text-decoration-color: #00af00\">12,821,930</span> (48.91 MB)\n",
       "</pre>\n"
      ],
      "text/plain": [
       "\u001b[1m Trainable params: \u001b[0m\u001b[38;5;34m12,821,930\u001b[0m (48.91 MB)\n"
      ]
     },
     "metadata": {},
     "output_type": "display_data"
    },
    {
     "data": {
      "text/html": [
       "<pre style=\"white-space:pre;overflow-x:auto;line-height:normal;font-family:Menlo,'DejaVu Sans Mono',consolas,'Courier New',monospace\"><span style=\"font-weight: bold\"> Non-trainable params: </span><span style=\"color: #00af00; text-decoration-color: #00af00\">0</span> (0.00 B)\n",
       "</pre>\n"
      ],
      "text/plain": [
       "\u001b[1m Non-trainable params: \u001b[0m\u001b[38;5;34m0\u001b[0m (0.00 B)\n"
      ]
     },
     "metadata": {},
     "output_type": "display_data"
    }
   ],
   "source": [
    "import tensorflow as tf\n",
    "from tensorflow.keras.models import Sequential\n",
    "from tensorflow.keras.layers import Embedding, GlobalAveragePooling1D, Dense, Dropout\n",
    "\n",
    "# Define the model\n",
    "model = Sequential([\n",
    "    Embedding(input_dim=vocab_size, output_dim=128, input_length=max_length),  # Embedding layer\n",
    "    GlobalAveragePooling1D(),  # Reduces the output to a fixed size\n",
    "    Dense(128, activation='relu'),  # Hidden layer\n",
    "    Dropout(0.5),  # Dropout for regularization\n",
    "    Dense(y_train.shape[1], activation='softmax')  # Output layer with softmax activation\n",
    "])\n",
    "\n",
    "# Compile the model\n",
    "model.compile(\n",
    "    optimizer='adam',  # Adam optimizer\n",
    "    loss='categorical_crossentropy',  # Loss function for multi-class classification\n",
    "    metrics=['accuracy']  # Metric to evaluate the model's performance\n",
    ")\n",
    "\n",
    "# Build the model (this can also be done by fitting the model)\n",
    "model.build(input_shape=(None, max_length))  # Input shape is (batch_size, max_length)\n",
    "\n",
    "# Now, you can view the model summary\n",
    "model.summary()"
   ]
  },
  {
   "cell_type": "code",
   "execution_count": 16,
   "metadata": {},
   "outputs": [],
   "source": [
    "from tensorflow.keras.callbacks import EarlyStopping, ModelCheckpoint\n",
    "# Define EarlyStopping and ModelCheckpoint callbacks\n",
    "early_stopping = EarlyStopping(\n",
    "    monitor='val_loss',  # Monitor validation loss\n",
    "    patience=3,          # Number of epochs with no improvement after which training will be stopped\n",
    "    restore_best_weights=True  # Restore model weights from the epoch with the best validation loss\n",
    ")\n",
    "\n",
    "model_checkpoint = ModelCheckpoint(\n",
    "    'TxtClassification.keras',  # Filepath to save the model\n",
    "    monitor='val_loss',  # Monitor validation loss\n",
    "    save_best_only=True,  # Save only the model if the validation loss improves\n",
    "    mode='min',  # Save when the monitored quantity is minimized\n",
    "    verbose=1  # Verbosity mode\n",
    ")"
   ]
  },
  {
   "cell_type": "code",
   "execution_count": 17,
   "metadata": {},
   "outputs": [
    {
     "name": "stdout",
     "output_type": "stream",
     "text": [
      "Epoch 1/20\n",
      "\n",
      "Epoch 1: val_loss improved from inf to 2.00419, saving model to TxtClassification.keras\n",
      "5239/5239 - 289s - 55ms/step - accuracy: 0.3544 - loss: 2.5514 - val_accuracy: 0.4708 - val_loss: 2.0042\n",
      "Epoch 2/20\n",
      "\n",
      "Epoch 2: val_loss improved from 2.00419 to 1.70235, saving model to TxtClassification.keras\n",
      "5239/5239 - 284s - 54ms/step - accuracy: 0.5202 - loss: 1.8207 - val_accuracy: 0.5369 - val_loss: 1.7024\n",
      "Epoch 3/20\n",
      "\n",
      "Epoch 3: val_loss improved from 1.70235 to 1.68182, saving model to TxtClassification.keras\n",
      "5239/5239 - 286s - 55ms/step - accuracy: 0.5676 - loss: 1.5967 - val_accuracy: 0.5425 - val_loss: 1.6818\n",
      "Epoch 4/20\n",
      "\n",
      "Epoch 4: val_loss improved from 1.68182 to 1.58127, saving model to TxtClassification.keras\n",
      "5239/5239 - 289s - 55ms/step - accuracy: 0.5959 - loss: 1.4608 - val_accuracy: 0.5704 - val_loss: 1.5813\n",
      "Epoch 5/20\n",
      "\n",
      "Epoch 5: val_loss did not improve from 1.58127\n",
      "5239/5239 - 285s - 54ms/step - accuracy: 0.6171 - loss: 1.3643 - val_accuracy: 0.5731 - val_loss: 1.5850\n",
      "Epoch 6/20\n",
      "\n",
      "Epoch 6: val_loss did not improve from 1.58127\n",
      "5239/5239 - 298s - 57ms/step - accuracy: 0.6364 - loss: 1.2863 - val_accuracy: 0.5720 - val_loss: 1.5866\n",
      "Epoch 7/20\n",
      "\n",
      "Epoch 7: val_loss did not improve from 1.58127\n",
      "5239/5239 - 2375s - 453ms/step - accuracy: 0.6497 - loss: 1.2268 - val_accuracy: 0.5702 - val_loss: 1.6067\n",
      "Epoch 8/20\n",
      "\n",
      "Epoch 8: val_loss did not improve from 1.58127\n",
      "5239/5239 - 288s - 55ms/step - accuracy: 0.6626 - loss: 1.1775 - val_accuracy: 0.5681 - val_loss: 1.6114\n",
      "Epoch 9/20\n",
      "\n",
      "Epoch 9: val_loss did not improve from 1.58127\n",
      "5239/5239 - 282s - 54ms/step - accuracy: 0.6733 - loss: 1.1335 - val_accuracy: 0.5778 - val_loss: 1.7004\n",
      "Epoch 10/20\n",
      "\n",
      "Epoch 10: val_loss did not improve from 1.58127\n",
      "5239/5239 - 281s - 54ms/step - accuracy: 0.6825 - loss: 1.0949 - val_accuracy: 0.5637 - val_loss: 1.7788\n",
      "Epoch 11/20\n",
      "\n",
      "Epoch 11: val_loss did not improve from 1.58127\n",
      "5239/5239 - 276s - 53ms/step - accuracy: 0.6912 - loss: 1.0568 - val_accuracy: 0.5678 - val_loss: 1.7779\n",
      "Epoch 12/20\n",
      "\n",
      "Epoch 12: val_loss did not improve from 1.58127\n",
      "5239/5239 - 276s - 53ms/step - accuracy: 0.6992 - loss: 1.0266 - val_accuracy: 0.5757 - val_loss: 1.6958\n",
      "Epoch 13/20\n",
      "\n",
      "Epoch 13: val_loss did not improve from 1.58127\n",
      "5239/5239 - 284s - 54ms/step - accuracy: 0.7067 - loss: 0.9988 - val_accuracy: 0.5693 - val_loss: 1.8087\n",
      "Epoch 14/20\n",
      "\n",
      "Epoch 14: val_loss did not improve from 1.58127\n",
      "5239/5239 - 278s - 53ms/step - accuracy: 0.7108 - loss: 0.9726 - val_accuracy: 0.5662 - val_loss: 1.8051\n",
      "Epoch 15/20\n",
      "\n",
      "Epoch 15: val_loss did not improve from 1.58127\n",
      "5239/5239 - 271s - 52ms/step - accuracy: 0.7175 - loss: 0.9513 - val_accuracy: 0.5753 - val_loss: 1.8586\n",
      "Epoch 16/20\n",
      "\n",
      "Epoch 16: val_loss did not improve from 1.58127\n",
      "5239/5239 - 288s - 55ms/step - accuracy: 0.7233 - loss: 0.9294 - val_accuracy: 0.5581 - val_loss: 1.9113\n",
      "Epoch 17/20\n",
      "\n",
      "Epoch 17: val_loss did not improve from 1.58127\n",
      "5239/5239 - 298s - 57ms/step - accuracy: 0.7293 - loss: 0.9064 - val_accuracy: 0.5488 - val_loss: 1.9937\n",
      "Epoch 18/20\n",
      "\n",
      "Epoch 18: val_loss did not improve from 1.58127\n",
      "5239/5239 - 299s - 57ms/step - accuracy: 0.7336 - loss: 0.8862 - val_accuracy: 0.5672 - val_loss: 1.8593\n",
      "Epoch 19/20\n",
      "\n",
      "Epoch 19: val_loss did not improve from 1.58127\n",
      "5239/5239 - 281s - 54ms/step - accuracy: 0.7374 - loss: 0.8673 - val_accuracy: 0.5686 - val_loss: 1.8730\n",
      "Epoch 20/20\n",
      "\n",
      "Epoch 20: val_loss did not improve from 1.58127\n",
      "5239/5239 - 276s - 53ms/step - accuracy: 0.7426 - loss: 0.8513 - val_accuracy: 0.5679 - val_loss: 2.0011\n"
     ]
    }
   ],
   "source": [
    "# Fit the model to the training data with callbacks\n",
    "history = model.fit(\n",
    "    X_train, \n",
    "    y_train, \n",
    "    epochs=20, \n",
    "    batch_size=32,  \n",
    "    validation_data=(X_test, y_test),  \n",
    "    callbacks=[model_checkpoint],  # Add callbacks here\n",
    "    verbose=2  \n",
    ")\n"
   ]
  },
  {
   "cell_type": "code",
   "execution_count": 21,
   "metadata": {},
   "outputs": [
    {
     "data": {
      "image/png": "[encoded data removed]",
      "text/plain": [
       "<Figure size 1400x500 with 2 Axes>"
      ]
     },
     "metadata": {},
     "output_type": "display_data"
    }
   ],
   "source": [
    "import matplotlib.pyplot as plt\n",
    "\n",
    "# Plotting training & validation accuracy values\n",
    "plt.figure(figsize=(14, 5))\n",
    "\n",
    "# Accuracy plot\n",
    "plt.subplot(1, 2, 1)\n",
    "plt.plot(history.history['accuracy'], label='Train Accuracy')\n",
    "plt.plot(history.history['val_accuracy'], label='Validation Accuracy')\n",
    "plt.title('Model Accuracy')\n",
    "plt.ylabel('Accuracy')\n",
    "plt.xlabel('Epoch')\n",
    "plt.legend()\n",
    "plt.grid()\n",
    "\n",
    "# Loss plot\n",
    "plt.subplot(1, 2, 2)\n",
    "plt.plot(history.history['loss'], label='Train Loss')\n",
    "plt.plot(history.history['val_loss'], label='Validation Loss')\n",
    "plt.title('Model Loss')\n",
    "plt.ylabel('Loss')\n",
    "plt.xlabel('Epoch')\n",
    "plt.legend()\n",
    "plt.grid()\n",
    "\n",
    "plt.show()"
   ]
  },
  {
   "cell_type": "code",
   "execution_count": 22,
   "metadata": {},
   "outputs": [
    {
     "name": "stdout",
     "output_type": "stream",
     "text": [
      "\u001b[1m1310/1310\u001b[0m \u001b[32m━━━━━━━━━━━━━━━━━━━━\u001b[0m\u001b[37m\u001b[0m \u001b[1m1s\u001b[0m 722us/step - accuracy: 0.5704 - loss: 1.5848\n",
      "Test Loss: 1.5813\n",
      "Test Accuracy: 0.5704\n"
     ]
    }
   ],
   "source": [
    "best_model = tf.keras.models.load_model('TxtClassification.keras')\n",
    "# Evaluate the model on the test data\n",
    "test_loss, test_accuracy = best_model.evaluate(X_test, y_test)\n",
    "print(f\"Test Loss: {test_loss:.4f}\")\n",
    "print(f\"Test Accuracy: {test_accuracy:.4f}\")"
   ]
  },
  {
   "cell_type": "code",
   "execution_count": 23,
   "metadata": {},
   "outputs": [
    {
     "name": "stdout",
     "output_type": "stream",
     "text": [
      "\u001b[1m1/1\u001b[0m \u001b[32m━━━━━━━━━━━━━━━━━━━━\u001b[0m\u001b[37m\u001b[0m \u001b[1m0s\u001b[0m 26ms/step\n",
      "Article: For me, learning is a series of small steps. Each one, a fragment of the whole.\n",
      "Predicted Category: QUEER VOICES\n",
      "\n"
     ]
    }
   ],
   "source": [
    "# Sample new articles for prediction (make sure they are preprocessed)\n",
    "new_articles = [\"For me, learning is a series of small steps. Each one, a fragment of the whole.\"]\n",
    "cleaned_new_articles = [clean_text(article) for article in new_articles]  # Clean the text\n",
    "\n",
    "# Tokenize and pad the new articles\n",
    "new_sequences = tokenizer.texts_to_sequences(cleaned_new_articles)\n",
    "new_padded_sequences = pad_sequences(new_sequences, maxlen=max_length, padding='post')\n",
    "\n",
    "# Make predictions\n",
    "predictions = model.predict(new_padded_sequences)\n",
    "\n",
    "# Get predicted class labels\n",
    "predicted_classes = label_encoder.inverse_transform(predictions.argmax(axis=1))\n",
    "\n",
    "# Display predictions\n",
    "for article, category in zip(new_articles, predicted_classes):\n",
    "    print(f\"Article: {article}\\nPredicted Category: {category}\\n\")"
   ]
  },
  {
   "cell_type": "code",
   "execution_count": null,
   "metadata": {},
   "outputs": [],
   "source": []
  }
 ],
 "metadata": {
  "kernelspec": {
   "display_name": "Python 3",
   "language": "python",
   "name": "python3"
  },
  "language_info": {
   "codemirror_mode": {
    "name": "ipython",
    "version": 3
   },
   "file_extension": ".py",
   "mimetype": "text/x-python",
   "name": "python",
   "nbconvert_exporter": "python",
   "pygments_lexer": "ipython3",
   "version": "3.10.0"
  }
 },
 "nbformat": 4,
 "nbformat_minor": 2
}
